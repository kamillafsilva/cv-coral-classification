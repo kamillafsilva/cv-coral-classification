{
  "nbformat": 4,
  "nbformat_minor": 0,
  "metadata": {
    "colab": {
      "provenance": []
    },
    "kernelspec": {
      "name": "python3",
      "display_name": "Python 3"
    },
    "language_info": {
      "name": "python"
    }
  },
  "cells": [
    {
      "cell_type": "markdown",
      "source": [
        "# Importação dos pacotes\n",
        "\n",
        "---\n",
        "\n"
      ],
      "metadata": {
        "id": "p2Xt01b7-MFn"
      }
    },
    {
      "cell_type": "code",
      "execution_count": 1,
      "metadata": {
        "id": "eL3-kRcS7Lqn"
      },
      "outputs": [],
      "source": [
        "from fastai.vision.all import *"
      ]
    },
    {
      "cell_type": "markdown",
      "source": [
        "# Importação da base de dados\n",
        "\n",
        "---\n",
        "\n"
      ],
      "metadata": {
        "id": "yZFfXDbG-WeF"
      }
    },
    {
      "cell_type": "code",
      "source": [],
      "metadata": {
        "id": "AgEiueBj-V_Y"
      },
      "execution_count": null,
      "outputs": []
    },
    {
      "cell_type": "markdown",
      "source": [
        "# Construção do modelo\n",
        "\n",
        "---\n",
        "\n"
      ],
      "metadata": {
        "id": "udY_OwGM-dVt"
      }
    },
    {
      "cell_type": "code",
      "source": [],
      "metadata": {
        "id": "qfxSQW6Z-c-F"
      },
      "execution_count": null,
      "outputs": []
    }
  ]
}